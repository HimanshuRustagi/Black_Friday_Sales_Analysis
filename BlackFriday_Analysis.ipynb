{
 "cells": [
  {
   "cell_type": "code",
   "execution_count": 1,
   "metadata": {},
   "outputs": [],
   "source": [
    "import numpy as np # linear algebra\n",
    "import pandas as pd # data processing, CSV file I/O (e.g. pd.read_csv)\n",
    "import seaborn as sns\n",
    "import matplotlib as mlp\n",
    "import matplotlib.pyplot as plt"
   ]
  },
  {
   "cell_type": "code",
   "execution_count": 3,
   "metadata": {},
   "outputs": [
    {
     "name": "stdout",
     "output_type": "stream",
     "text": [
      "['BlackFriday.csv', 'test.csv', 'train.csv']\n"
     ]
    }
   ],
   "source": [
    "import os\n",
    "print(os.listdir(\"F:/UTD Drive/OneDrive - The University of Texas at Dallas/UTD/Semester 3/Database Marketing/Project\"))"
   ]
  },
  {
   "cell_type": "code",
   "execution_count": 21,
   "metadata": {},
   "outputs": [],
   "source": [
    "os.chdir(\"F:/UTD Drive/OneDrive - The University of Texas at Dallas/UTD/Semester 3/Database Marketing/Project\")\n",
    "BF = pd.read_csv(\"train.csv\")\n"
   ]
  },
  {
   "cell_type": "code",
   "execution_count": 180,
   "metadata": {},
   "outputs": [],
   "source": [
    "BF_test = pd.read_csv(\"test.csv\")"
   ]
  },
  {
   "cell_type": "code",
   "execution_count": 182,
   "metadata": {},
   "outputs": [
    {
     "name": "stdout",
     "output_type": "stream",
     "text": [
      "<class 'pandas.core.frame.DataFrame'>\n",
      "RangeIndex: 233599 entries, 0 to 233598\n",
      "Data columns (total 11 columns):\n",
      "User_ID                       233599 non-null int64\n",
      "Product_ID                    233599 non-null object\n",
      "Gender                        233599 non-null object\n",
      "Age                           233599 non-null object\n",
      "Occupation                    233599 non-null int64\n",
      "City_Category                 233599 non-null object\n",
      "Stay_In_Current_City_Years    233599 non-null object\n",
      "Marital_Status                233599 non-null int64\n",
      "Product_Category_1            233599 non-null int64\n",
      "Product_Category_2            161255 non-null float64\n",
      "Product_Category_3            71037 non-null float64\n",
      "dtypes: float64(2), int64(4), object(5)\n",
      "memory usage: 19.6+ MB\n"
     ]
    }
   ],
   "source": [
    "BF_test.info()"
   ]
  },
  {
   "cell_type": "code",
   "execution_count": 9,
   "metadata": {},
   "outputs": [
    {
     "data": {
      "text/html": [
       "<div>\n",
       "<style scoped>\n",
       "    .dataframe tbody tr th:only-of-type {\n",
       "        vertical-align: middle;\n",
       "    }\n",
       "\n",
       "    .dataframe tbody tr th {\n",
       "        vertical-align: top;\n",
       "    }\n",
       "\n",
       "    .dataframe thead th {\n",
       "        text-align: right;\n",
       "    }\n",
       "</style>\n",
       "<table border=\"1\" class=\"dataframe\">\n",
       "  <thead>\n",
       "    <tr style=\"text-align: right;\">\n",
       "      <th></th>\n",
       "      <th>User_ID</th>\n",
       "      <th>Product_ID</th>\n",
       "      <th>Gender</th>\n",
       "      <th>Age</th>\n",
       "      <th>Occupation</th>\n",
       "      <th>City_Category</th>\n",
       "      <th>Stay_In_Current_City_Years</th>\n",
       "      <th>Marital_Status</th>\n",
       "      <th>Product_Category_1</th>\n",
       "      <th>Product_Category_2</th>\n",
       "      <th>Product_Category_3</th>\n",
       "      <th>Purchase</th>\n",
       "    </tr>\n",
       "  </thead>\n",
       "  <tbody>\n",
       "    <tr>\n",
       "      <th>0</th>\n",
       "      <td>1000001</td>\n",
       "      <td>P00069042</td>\n",
       "      <td>F</td>\n",
       "      <td>0-17</td>\n",
       "      <td>10</td>\n",
       "      <td>A</td>\n",
       "      <td>2</td>\n",
       "      <td>0</td>\n",
       "      <td>3</td>\n",
       "      <td>NaN</td>\n",
       "      <td>NaN</td>\n",
       "      <td>8370</td>\n",
       "    </tr>\n",
       "    <tr>\n",
       "      <th>1</th>\n",
       "      <td>1000001</td>\n",
       "      <td>P00248942</td>\n",
       "      <td>F</td>\n",
       "      <td>0-17</td>\n",
       "      <td>10</td>\n",
       "      <td>A</td>\n",
       "      <td>2</td>\n",
       "      <td>0</td>\n",
       "      <td>1</td>\n",
       "      <td>6.0</td>\n",
       "      <td>14.0</td>\n",
       "      <td>15200</td>\n",
       "    </tr>\n",
       "    <tr>\n",
       "      <th>2</th>\n",
       "      <td>1000001</td>\n",
       "      <td>P00087842</td>\n",
       "      <td>F</td>\n",
       "      <td>0-17</td>\n",
       "      <td>10</td>\n",
       "      <td>A</td>\n",
       "      <td>2</td>\n",
       "      <td>0</td>\n",
       "      <td>12</td>\n",
       "      <td>NaN</td>\n",
       "      <td>NaN</td>\n",
       "      <td>1422</td>\n",
       "    </tr>\n",
       "    <tr>\n",
       "      <th>3</th>\n",
       "      <td>1000001</td>\n",
       "      <td>P00085442</td>\n",
       "      <td>F</td>\n",
       "      <td>0-17</td>\n",
       "      <td>10</td>\n",
       "      <td>A</td>\n",
       "      <td>2</td>\n",
       "      <td>0</td>\n",
       "      <td>12</td>\n",
       "      <td>14.0</td>\n",
       "      <td>NaN</td>\n",
       "      <td>1057</td>\n",
       "    </tr>\n",
       "    <tr>\n",
       "      <th>4</th>\n",
       "      <td>1000002</td>\n",
       "      <td>P00285442</td>\n",
       "      <td>M</td>\n",
       "      <td>55+</td>\n",
       "      <td>16</td>\n",
       "      <td>C</td>\n",
       "      <td>4+</td>\n",
       "      <td>0</td>\n",
       "      <td>8</td>\n",
       "      <td>NaN</td>\n",
       "      <td>NaN</td>\n",
       "      <td>7969</td>\n",
       "    </tr>\n",
       "  </tbody>\n",
       "</table>\n",
       "</div>"
      ],
      "text/plain": [
       "   User_ID Product_ID Gender   Age  Occupation City_Category  \\\n",
       "0  1000001  P00069042      F  0-17          10             A   \n",
       "1  1000001  P00248942      F  0-17          10             A   \n",
       "2  1000001  P00087842      F  0-17          10             A   \n",
       "3  1000001  P00085442      F  0-17          10             A   \n",
       "4  1000002  P00285442      M   55+          16             C   \n",
       "\n",
       "  Stay_In_Current_City_Years  Marital_Status  Product_Category_1  \\\n",
       "0                          2               0                   3   \n",
       "1                          2               0                   1   \n",
       "2                          2               0                  12   \n",
       "3                          2               0                  12   \n",
       "4                         4+               0                   8   \n",
       "\n",
       "   Product_Category_2  Product_Category_3  Purchase  \n",
       "0                 NaN                 NaN      8370  \n",
       "1                 6.0                14.0     15200  \n",
       "2                 NaN                 NaN      1422  \n",
       "3                14.0                 NaN      1057  \n",
       "4                 NaN                 NaN      7969  "
      ]
     },
     "execution_count": 9,
     "metadata": {},
     "output_type": "execute_result"
    }
   ],
   "source": [
    "BF.head()\n"
   ]
  },
  {
   "cell_type": "code",
   "execution_count": 14,
   "metadata": {},
   "outputs": [
    {
     "name": "stdout",
     "output_type": "stream",
     "text": [
      "<class 'pandas.core.frame.DataFrame'>\n",
      "RangeIndex: 550068 entries, 0 to 550067\n",
      "Data columns (total 12 columns):\n",
      "User_ID                       550068 non-null int64\n",
      "Product_ID                    550068 non-null object\n",
      "Gender                        550068 non-null object\n",
      "Age                           550068 non-null object\n",
      "Occupation                    550068 non-null int64\n",
      "City_Category                 550068 non-null object\n",
      "Stay_In_Current_City_Years    550068 non-null object\n",
      "Marital_Status                550068 non-null int64\n",
      "Product_Category_1            550068 non-null int64\n",
      "Product_Category_2            376430 non-null float64\n",
      "Product_Category_3            166821 non-null float64\n",
      "Purchase                      550068 non-null int64\n",
      "dtypes: float64(2), int64(5), object(5)\n",
      "memory usage: 50.4+ MB\n"
     ]
    }
   ],
   "source": [
    "BF.info()"
   ]
  },
  {
   "cell_type": "code",
   "execution_count": 23,
   "metadata": {},
   "outputs": [
    {
     "name": "stdout",
     "output_type": "stream",
     "text": [
      "Product_Category_3    69.672659\n",
      "Product_Category_2    31.566643\n",
      "dtype: float64 %\n"
     ]
    }
   ],
   "source": [
    "## to check which columns have null values.\n",
    "\n",
    "#BF.isna().sum()\n",
    "\n",
    "missing_values = BF.isnull().sum().sort_values(ascending = False)\n",
    "missing_values = missing_values[missing_values > 0]/BF.shape[0]\n",
    "print(f'{missing_values *100} %')"
   ]
  },
  {
   "cell_type": "code",
   "execution_count": 24,
   "metadata": {},
   "outputs": [
    {
     "name": "stdout",
     "output_type": "stream",
     "text": [
      "Product_Category_1 [ 3  1 12  8  5  4  2  6 14 11 13 15  7 16 18 10 17  9 20 19]\n",
      "Product_Category_2 [nan  6. 14.  2.  8. 15. 16. 11.  5.  3.  4. 12.  9. 10. 17. 13.  7. 18.]\n",
      "-----------------------------------------------------------------------------------\n",
      "Product_Category_3 [nan 14. 17.  5.  4. 16. 15.  8.  9. 13.  6. 12.  3. 18. 11. 10.]\n"
     ]
    }
   ],
   "source": [
    "print('Product_Category_1', BF['Product_Category_1'].unique())\n",
    "print('Product_Category_2', BF['Product_Category_2'].unique())\n",
    "print('-----------------------------------------------------------------------------------')\n",
    "print('Product_Category_3', BF['Product_Category_3'].unique())"
   ]
  },
  {
   "cell_type": "code",
   "execution_count": 25,
   "metadata": {},
   "outputs": [
    {
     "name": "stdout",
     "output_type": "stream",
     "text": [
      "Product_Category_2 [ 0  6 14  2  8 15 16 11  5  3  4 12  9 10 17 13  7 18]\n",
      "-----------------------------------------------------------------------------------\n",
      "Product_Category_3 [ 0 14 17  5  4 16 15  8  9 13  6 12  3 18 11 10]\n"
     ]
    }
   ],
   "source": [
    "\n",
    "df = BF.fillna(value=0)\n",
    "\n",
    "df[\"Product_Category_2\"] = df[\"Product_Category_2\"].astype(int)\n",
    "df[\"Product_Category_3\"] = df[\"Product_Category_3\"].astype(int)\n",
    "\n",
    "print('Product_Category_2', df['Product_Category_2'].unique())\n",
    "print('-----------------------------------------------------------------------------------')\n",
    "print('Product_Category_3', df['Product_Category_3'].unique())"
   ]
  },
  {
   "cell_type": "code",
   "execution_count": 189,
   "metadata": {},
   "outputs": [
    {
     "name": "stdout",
     "output_type": "stream",
     "text": [
      "Number of shoppers: 5891\n",
      "Years in city: ['2' '4+' '3' '1' '0']\n",
      "Age Groups: ['0-17' '55+' '26-35' '46-50' '51-55' '36-45' '18-25']\n",
      "Gender ['F' 'M']\n",
      "Occupation [10 16 15  7 20  9  1 12 17  0  3  4 11  8 19  2 18  5 14 13  6]\n",
      "City_Category ['A' 'C' 'B']\n",
      "Marital_Status [0 1]\n"
     ]
    }
   ],
   "source": [
    "# Info about Shoppers\n",
    "print('Number of shoppers:',df['User_ID'].nunique())\n",
    "print('Years in city:',df['Stay_In_Current_City_Years'].unique())\n",
    "print('Age Groups:',df['Age'].unique())\n",
    "print('Gender', df['Gender'].unique())\n",
    "print('Occupation', df['Occupation'].unique())\n",
    "print('City_Category', df['City_Category'].unique())\n",
    "print('Marital_Status', df['Marital_Status'].unique())"
   ]
  },
  {
   "cell_type": "code",
   "execution_count": 54,
   "metadata": {},
   "outputs": [
    {
     "name": "stdout",
     "output_type": "stream",
     "text": [
      "Number of products: 3631\n",
      "Number of categories: 20\n",
      "Highest and lowest purchase: 23961 , 12\n"
     ]
    }
   ],
   "source": [
    "# Info about products\n",
    "print('Number of products:',df['Product_ID'].nunique())\n",
    "print('Number of categories:',df['Product_Category_1'].unique().max())\n",
    "print('Highest and lowest purchase:',df['Purchase'].max(),',',df['Purchase'].min())"
   ]
  },
  {
   "cell_type": "code",
   "execution_count": 78,
   "metadata": {},
   "outputs": [
    {
     "name": "stdout",
     "output_type": "stream",
     "text": [
      "Total Male 414259\n",
      "Total Female 135809\n"
     ]
    }
   ],
   "source": [
    "male_count = df[df['Gender']=='M'].count()[0]\n",
    "Female_count = df[df['Gender']=='F'].count()[0]\n",
    "print('Total Male',male_count)\n",
    "print('Total Female',Female_count)"
   ]
  },
  {
   "cell_type": "code",
   "execution_count": 118,
   "metadata": {
    "scrolled": true
   },
   "outputs": [
    {
     "data": {
      "text/plain": [
       "([<matplotlib.patches.Wedge at 0x18ecdfc6860>,\n",
       "  <matplotlib.patches.Wedge at 0x18ecdfc6eb8>],\n",
       " [Text(0.0548817,1.09863,'Male'), Text(-0.0548817,-1.09863,'Female')],\n",
       " [Text(0.0299355,0.599253,'48.4%'), Text(-0.0299355,-0.599253,'51.6%')])"
      ]
     },
     "execution_count": 118,
     "metadata": {},
     "output_type": "execute_result"
    },
    {
     "data": {
      "image/png": "[encoded data removed]",
      "text/plain": [
       "<matplotlib.figure.Figure at 0x18ed356acc0>"
      ]
     },
     "metadata": {},
     "output_type": "display_data"
    }
   ],
   "source": [
    "plt.pie(df.groupby('Gender')['Product_ID'].nunique(),labels = ('Male','Female'),shadow=True, autopct='%1.1f%%')\n",
    "\n",
    "#Although almost even, women did purchase a slightly wider array of products than men did. \n",
    "#Now, lets analyze the proportions of each gender's purchase in terms of the product categories:"
   ]
  },
  {
   "cell_type": "code",
   "execution_count": 102,
   "metadata": {},
   "outputs": [
    {
     "data": {
      "text/html": [
       "<div>\n",
       "<style scoped>\n",
       "    .dataframe tbody tr th:only-of-type {\n",
       "        vertical-align: middle;\n",
       "    }\n",
       "\n",
       "    .dataframe tbody tr th {\n",
       "        vertical-align: top;\n",
       "    }\n",
       "\n",
       "    .dataframe thead th {\n",
       "        text-align: right;\n",
       "    }\n",
       "</style>\n",
       "<table border=\"1\" class=\"dataframe\">\n",
       "  <thead>\n",
       "    <tr style=\"text-align: right;\">\n",
       "      <th></th>\n",
       "      <th>M ratio</th>\n",
       "      <th>F ratio</th>\n",
       "      <th>Likelihood (M/F)</th>\n",
       "      <th>Total Ratio</th>\n",
       "    </tr>\n",
       "    <tr>\n",
       "      <th>Product_Category_1</th>\n",
       "      <th></th>\n",
       "      <th></th>\n",
       "      <th></th>\n",
       "      <th></th>\n",
       "    </tr>\n",
       "  </thead>\n",
       "  <tbody>\n",
       "    <tr>\n",
       "      <th>17</th>\n",
       "      <td>0.001246</td>\n",
       "      <td>0.000457</td>\n",
       "      <td>2.728441</td>\n",
       "      <td>0.001702</td>\n",
       "    </tr>\n",
       "    <tr>\n",
       "      <th>18</th>\n",
       "      <td>0.006621</td>\n",
       "      <td>0.002813</td>\n",
       "      <td>2.354068</td>\n",
       "      <td>0.009434</td>\n",
       "    </tr>\n",
       "    <tr>\n",
       "      <th>15</th>\n",
       "      <td>0.012659</td>\n",
       "      <td>0.007702</td>\n",
       "      <td>1.643568</td>\n",
       "      <td>0.020361</td>\n",
       "    </tr>\n",
       "    <tr>\n",
       "      <th>9</th>\n",
       "      <td>0.000821</td>\n",
       "      <td>0.000515</td>\n",
       "      <td>1.592346</td>\n",
       "      <td>0.001336</td>\n",
       "    </tr>\n",
       "    <tr>\n",
       "      <th>1</th>\n",
       "      <td>0.278925</td>\n",
       "      <td>0.182838</td>\n",
       "      <td>1.525531</td>\n",
       "      <td>0.461762</td>\n",
       "    </tr>\n",
       "    <tr>\n",
       "      <th>11</th>\n",
       "      <td>0.047188</td>\n",
       "      <td>0.034895</td>\n",
       "      <td>1.352297</td>\n",
       "      <td>0.082082</td>\n",
       "    </tr>\n",
       "    <tr>\n",
       "      <th>6</th>\n",
       "      <td>0.038399</td>\n",
       "      <td>0.033569</td>\n",
       "      <td>1.143866</td>\n",
       "      <td>0.071968</td>\n",
       "    </tr>\n",
       "    <tr>\n",
       "      <th>10</th>\n",
       "      <td>0.009566</td>\n",
       "      <td>0.008556</td>\n",
       "      <td>1.118084</td>\n",
       "      <td>0.018123</td>\n",
       "    </tr>\n",
       "    <tr>\n",
       "      <th>2</th>\n",
       "      <td>0.043948</td>\n",
       "      <td>0.041661</td>\n",
       "      <td>1.054892</td>\n",
       "      <td>0.085610</td>\n",
       "    </tr>\n",
       "    <tr>\n",
       "      <th>16</th>\n",
       "      <td>0.017926</td>\n",
       "      <td>0.017687</td>\n",
       "      <td>1.013535</td>\n",
       "      <td>0.035613</td>\n",
       "    </tr>\n",
       "    <tr>\n",
       "      <th>7</th>\n",
       "      <td>0.006706</td>\n",
       "      <td>0.006944</td>\n",
       "      <td>0.965778</td>\n",
       "      <td>0.013650</td>\n",
       "    </tr>\n",
       "    <tr>\n",
       "      <th>13</th>\n",
       "      <td>0.009866</td>\n",
       "      <td>0.010765</td>\n",
       "      <td>0.916461</td>\n",
       "      <td>0.020631</td>\n",
       "    </tr>\n",
       "    <tr>\n",
       "      <th>5</th>\n",
       "      <td>0.263053</td>\n",
       "      <td>0.308971</td>\n",
       "      <td>0.851384</td>\n",
       "      <td>0.572024</td>\n",
       "    </tr>\n",
       "    <tr>\n",
       "      <th>19</th>\n",
       "      <td>0.002781</td>\n",
       "      <td>0.003321</td>\n",
       "      <td>0.837399</td>\n",
       "      <td>0.006102</td>\n",
       "    </tr>\n",
       "    <tr>\n",
       "      <th>20</th>\n",
       "      <td>0.004410</td>\n",
       "      <td>0.005324</td>\n",
       "      <td>0.828432</td>\n",
       "      <td>0.009734</td>\n",
       "    </tr>\n",
       "    <tr>\n",
       "      <th>8</th>\n",
       "      <td>0.194002</td>\n",
       "      <td>0.247097</td>\n",
       "      <td>0.785124</td>\n",
       "      <td>0.441099</td>\n",
       "    </tr>\n",
       "    <tr>\n",
       "      <th>3</th>\n",
       "      <td>0.034295</td>\n",
       "      <td>0.044224</td>\n",
       "      <td>0.775485</td>\n",
       "      <td>0.078519</td>\n",
       "    </tr>\n",
       "    <tr>\n",
       "      <th>4</th>\n",
       "      <td>0.019587</td>\n",
       "      <td>0.026795</td>\n",
       "      <td>0.730987</td>\n",
       "      <td>0.046382</td>\n",
       "    </tr>\n",
       "    <tr>\n",
       "      <th>12</th>\n",
       "      <td>0.005830</td>\n",
       "      <td>0.011281</td>\n",
       "      <td>0.516791</td>\n",
       "      <td>0.017110</td>\n",
       "    </tr>\n",
       "    <tr>\n",
       "      <th>14</th>\n",
       "      <td>0.002173</td>\n",
       "      <td>0.004587</td>\n",
       "      <td>0.473599</td>\n",
       "      <td>0.006760</td>\n",
       "    </tr>\n",
       "  </tbody>\n",
       "</table>\n",
       "</div>"
      ],
      "text/plain": [
       "                     M ratio   F ratio  Likelihood (M/F)  Total Ratio\n",
       "Product_Category_1                                                   \n",
       "17                  0.001246  0.000457          2.728441     0.001702\n",
       "18                  0.006621  0.002813          2.354068     0.009434\n",
       "15                  0.012659  0.007702          1.643568     0.020361\n",
       "9                   0.000821  0.000515          1.592346     0.001336\n",
       "1                   0.278925  0.182838          1.525531     0.461762\n",
       "11                  0.047188  0.034895          1.352297     0.082082\n",
       "6                   0.038399  0.033569          1.143866     0.071968\n",
       "10                  0.009566  0.008556          1.118084     0.018123\n",
       "2                   0.043948  0.041661          1.054892     0.085610\n",
       "16                  0.017926  0.017687          1.013535     0.035613\n",
       "7                   0.006706  0.006944          0.965778     0.013650\n",
       "13                  0.009866  0.010765          0.916461     0.020631\n",
       "5                   0.263053  0.308971          0.851384     0.572024\n",
       "19                  0.002781  0.003321          0.837399     0.006102\n",
       "20                  0.004410  0.005324          0.828432     0.009734\n",
       "8                   0.194002  0.247097          0.785124     0.441099\n",
       "3                   0.034295  0.044224          0.775485     0.078519\n",
       "4                   0.019587  0.026795          0.730987     0.046382\n",
       "12                  0.005830  0.011281          0.516791     0.017110\n",
       "14                  0.002173  0.004587          0.473599     0.006760"
      ]
     },
     "execution_count": 102,
     "metadata": {},
     "output_type": "execute_result"
    }
   ],
   "source": [
    "sns.set(style='darkgrid')\n",
    "plt.rcParams[\"patch.force_edgecolor\"] = True\n",
    "\n",
    "gender_M = df[df['Gender']=='M'][['Product_Category_1','Gender']].groupby('Product_Category_1').count()\n",
    "gender_F = df[df['Gender']=='F'][['Product_Category_1','Gender']].groupby('Product_Category_1').count()\n",
    "\n",
    "cat_bygender = pd.concat([gender_M,gender_F],axis=1)\n",
    "cat_bygender.columns = ['M ratio','F ratio']\n",
    "\n",
    "cat_bygender['M ratio'] = cat_bygender['M ratio']/df[df['Gender']=='M'].count()[0]\n",
    "cat_bygender['F ratio'] = cat_bygender['F ratio']/df[df['Gender']=='F'].count()[0]\n",
    "\n",
    "# Create likelihood of one gender to buy over the other\n",
    "cat_bygender['Likelihood (M/F)'] = cat_bygender['M ratio']/cat_bygender['F ratio']\n",
    "\n",
    "cat_bygender['Total Ratio'] = cat_bygender['M ratio']+cat_bygender['F ratio']\n",
    "\n",
    "cat_bygender.sort_values(by='Likelihood (M/F)',ascending=False)\n",
    "\n",
    "\n",
    "#This table tells us a lot about how likely a type of product is to be bought in regards of gender. \n",
    "#For instance, men are almost 3 times as likely to buy an item in category 17, \n",
    "#while women are almost 2 times as likely to buy a product in category 14."
   ]
  },
  {
   "cell_type": "code",
   "execution_count": 112,
   "metadata": {
    "scrolled": true
   },
   "outputs": [
    {
     "data": {
      "image/png": "[encoded data removed]",
      "text/plain": [
       "<matplotlib.figure.Figure at 0x18ec81a5400>"
      ]
     },
     "metadata": {},
     "output_type": "display_data"
    }
   ],
   "source": [
    "plt.figure(figsize=(10,4))  # create a plot figure\n",
    "\n",
    "# create the first of two panels and set current axis\n",
    "plt.subplot(1, 3, 1) # (rows, columns, panel number)\n",
    "sns.countplot(df['Gender'])\n",
    "\n",
    "plt.subplot(1, 3, 2)\n",
    "sns.countplot(df['Gender'],hue=df['Marital_Status'])\n",
    "\n",
    "# create the second panel and set current axis\n",
    "plt.subplot(1, 3, 3)\n",
    "df[['Gender','Purchase']].groupby('Gender').mean()\n",
    "sns.barplot('Gender', 'Purchase', data = df)\n",
    "\n",
    "plt.subplots_adjust(top=0.92, bottom=0.08, left=0.10, right=0.95, hspace=0.25,\n",
    "                    wspace=0.35)\n",
    "plt.show()"
   ]
  },
  {
   "cell_type": "code",
   "execution_count": 148,
   "metadata": {},
   "outputs": [
    {
     "data": {
      "image/png": "[encoded data removed]",
      "text/plain": [
       "<matplotlib.figure.Figure at 0x18ec76aac88>"
      ]
     },
     "metadata": {},
     "output_type": "display_data"
    }
   ],
   "source": [
    "plt.figure(figsize=(14,4))  # create a plot figure\n",
    "\n",
    "# create the first of two panels and set current axis\n",
    "plt.subplot(1, 3, 1) # (rows, columns, panel number)\n",
    "sns.countplot(df['Age'].sort_values())\n",
    "\n",
    "# create the second panel and set current axis\n",
    "plt.subplot(1, 3, 2)\n",
    "sns.countplot(df['Age'].sort_values(),hue=df['Gender'])\n",
    "\n",
    "plt.subplot(1, 3, 3)\n",
    "#df[['Age','Purchase']].groupby('Age').sum()\n",
    "sns.barplot(df['Age'].sort_values(), 'Purchase', data = df)\n",
    "\n",
    "plt.subplots_adjust(top=0.92, bottom=0.08, left=0.10, right=0.95, hspace=0.25,\n",
    "                    wspace=0.35)\n",
    "plt.show()\n",
    "\n"
   ]
  },
  {
   "cell_type": "code",
   "execution_count": 140,
   "metadata": {},
   "outputs": [
    {
     "data": {
      "image/png": "[encoded data removed]",
      "text/plain": [
       "<matplotlib.figure.Figure at 0x18ec76d6da0>"
      ]
     },
     "metadata": {},
     "output_type": "display_data"
    }
   ],
   "source": [
    "prod_byage = df.groupby('Age').nunique()['Product_ID']\n",
    "\n",
    "fig,ax = plt.subplots(1,2,figsize=(14,6))\n",
    "ax = ax.ravel()\n",
    "\n",
    "sns.countplot(df['Age'].sort_values(),ax=ax[0], palette=\"Blues_d\")\n",
    "ax[0].set_xlabel('Age Group')\n",
    "ax[0].set_title('Age Group Distribution')\n",
    "sns.barplot(x=prod_byage.index,y=prod_byage.values,ax=ax[1], palette=\"Blues_d\")\n",
    "ax[1].set_xlabel('Age Group')\n",
    "ax[1].set_title('Unique Products by Age')\n",
    "\n",
    "plt.show()\n",
    "\n",
    "#It's quite apparent that the largest age group amongst the customers is 26-35. \n",
    "#Interestingly, the distribution of product purchase, in terms of quantity, does not vary greatly amongst the age groups. \n",
    "#This means that,though the 26-35 age group is the most popular,the other age groups purchase almost as many unique items as them \n",
    "#But does this mean that the amount of money spent amongst the age groups is the same"
   ]
  },
  {
   "cell_type": "code",
   "execution_count": 149,
   "metadata": {},
   "outputs": [
    {
     "data": {
      "image/png": "[encoded data removed]",
      "text/plain": [
       "<matplotlib.figure.Figure at 0x18ec7684eb8>"
      ]
     },
     "metadata": {},
     "output_type": "display_data"
    }
   ],
   "source": [
    "spent_byage = df.groupby(by='Age').sum()['Purchase']\n",
    "plt.figure(figsize=(10,6))\n",
    "\n",
    "sns.barplot(x=spent_byage.index,y=spent_byage.values, palette=\"Blues_d\")\n",
    "plt.title('Money spent per Age Group')\n",
    "plt.show()"
   ]
  },
  {
   "cell_type": "code",
   "execution_count": 109,
   "metadata": {},
   "outputs": [
    {
     "data": {
      "image/png": "[encoded data removed]",
      "text/plain": [
       "<matplotlib.figure.Figure at 0x18ec7763908>"
      ]
     },
     "metadata": {},
     "output_type": "display_data"
    }
   ],
   "source": [
    "plt.figure(figsize=(12,4))  # create a plot figure\n",
    "\n",
    "# create the first of two panels and set current axis\n",
    "plt.subplot(1, 3, 1) # (rows, columns, panel number)\n",
    "sns.countplot(df['City_Category'])\n",
    "\n",
    "# create the second panel and set current axis\n",
    "plt.subplot(1, 3, 2)\n",
    "sns.countplot(df['City_Category'],hue=df['Gender'])\n",
    "\n",
    "plt.subplot(1, 3, 3)\n",
    "df[['City_Category','Purchase']].groupby('City_Category').mean()\n",
    "sns.barplot('City_Category', 'Purchase', data = df)\n",
    "\n",
    "\n",
    "plt.subplots_adjust(top=0.92, bottom=0.08, left=0.10, right=0.95, hspace=0.25,\n",
    "                    wspace=0.35)\n",
    "plt.show()"
   ]
  },
  {
   "cell_type": "code",
   "execution_count": 113,
   "metadata": {},
   "outputs": [
    {
     "data": {
      "image/png": "[encoded data removed]",
      "text/plain": [
       "<matplotlib.figure.Figure at 0x18ecc686dd8>"
      ]
     },
     "metadata": {},
     "output_type": "display_data"
    }
   ],
   "source": [
    "plt.figure(figsize=(12,4))  # create a plot figure\n",
    "\n",
    "# create the first of two panels and set current axis\n",
    "plt.subplot(1, 3, 1) # (rows, columns, panel number)\n",
    "sns.countplot(df['Marital_Status'])\n",
    "\n",
    "plt.subplot(1, 3, 2)\n",
    "sns.countplot(df['Marital_Status'],hue=df['Gender'])\n",
    "\n",
    "# create the second panel and set current axis\n",
    "plt.subplot(1, 3, 3)\n",
    "df[['Marital_Status','Purchase']].groupby('Marital_Status').mean()\n",
    "sns.barplot('Marital_Status', 'Purchase', data = df)\n",
    "\n",
    "plt.subplots_adjust(top=0.92, bottom=0.08, left=0.10, right=0.95, hspace=0.25,\n",
    "                    wspace=0.35)\n",
    "plt.show()"
   ]
  },
  {
   "cell_type": "code",
   "execution_count": 177,
   "metadata": {},
   "outputs": [
    {
     "data": {
      "image/png": "[encoded data removed]",
      "text/plain": [
       "<matplotlib.figure.Figure at 0x18ed2a11cc0>"
      ]
     },
     "metadata": {},
     "output_type": "display_data"
    }
   ],
   "source": [
    "plt.figure(figsize=(12,4))  # create a plot figure\n",
    "\n",
    "# create the first of two panels and set current axis\n",
    "plt.subplot(1, 3, 1) # (rows, columns, panel number)\n",
    "sns.countplot(df['Stay_In_Current_City_Years'].sort_values())\n",
    "plt.title('Total count in City Years')\n",
    "\n",
    "# create the second panel and set current axis\n",
    "plt.subplot(1, 3, 2)\n",
    "Purchase_by_Stay = df.groupby('Stay_In_Current_City_Years')['Purchase'].sum()\n",
    "sns.barplot(x=Purchase_by_Stay.index, y=Purchase_by_Stay.values)\n",
    "plt.title('Total Purchase in City Years')\n",
    "#sns.barplot(df['Stay_In_Current_City_Years'].sort_values(), 'Purchase', data = df)\n",
    "\n",
    "plt.subplot(1, 3, 3)\n",
    "Pur_mean_by_Stay = df.groupby('Stay_In_Current_City_Years')['Purchase'].mean()\n",
    "sns.barplot(x=Pur_mean_by_Stay.index, y=Pur_mean_by_Stay.values)\n",
    "plt.title('Average Purchase in City Years')\n",
    "\n",
    "plt.subplots_adjust(top=0.92, bottom=0.08, left=0.10, right=0.95, hspace=0.25,\n",
    "                    wspace=0.35)\n",
    "plt.show()"
   ]
  },
  {
   "cell_type": "code",
   "execution_count": 65,
   "metadata": {
    "scrolled": true
   },
   "outputs": [
    {
     "name": "stdout",
     "output_type": "stream",
     "text": [
      "['F_0' 'M_0' 'M_1' 'F_1']\n"
     ]
    }
   ],
   "source": [
    "df['combined_G_M'] = df.apply(lambda x:'%s_%s' % (x['Gender'],x['Marital_Status']),axis=1)\n",
    "print(df['combined_G_M'].unique())"
   ]
  },
  {
   "cell_type": "code",
   "execution_count": 116,
   "metadata": {},
   "outputs": [
    {
     "data": {
      "text/plain": [
       "<matplotlib.axes._subplots.AxesSubplot at 0x18ed3367be0>"
      ]
     },
     "execution_count": 116,
     "metadata": {},
     "output_type": "execute_result"
    },
    {
     "data": {
      "image/png": "[encoded data removed]",
      "text/plain": [
       "<matplotlib.figure.Figure at 0x18ed33ae710>"
      ]
     },
     "metadata": {},
     "output_type": "display_data"
    }
   ],
   "source": [
    "plt.figure(figsize=(8,5))\n",
    "sns.countplot(df['Age'].sort_values(),hue=df['combined_G_M'])"
   ]
  },
  {
   "cell_type": "code",
   "execution_count": null,
   "metadata": {},
   "outputs": [],
   "source": [
    "# As we see above, there are no bars for the married in the 0-17 range which makes sense. \n",
    "#And then if we look at the 46 and above groups, females are very less. \n",
    "#But on the other hand, married males paying in range 46-55 are also comparatively more than married females. \n",
    "#So it could also imply that though ladies do shop a lot, \n",
    "#their spouses are possibly paying for it and hence data reflects that men shopped more. \n",
    "#If we had more categorical data defining what kind of products were purchased by men, \n",
    "#we could dig in this statement further. \n",
    "#However, since in this dataset we don't know if there is a category that implies feminine products/clothes we cannot further explore this case."
   ]
  },
  {
   "cell_type": "code",
   "execution_count": 117,
   "metadata": {},
   "outputs": [
    {
     "data": {
      "text/plain": [
       "<matplotlib.axes._subplots.AxesSubplot at 0x18ed33e5278>"
      ]
     },
     "execution_count": 117,
     "metadata": {},
     "output_type": "execute_result"
    },
    {
     "data": {
      "image/png": "[encoded data removed]",
      "text/plain": [
       "<matplotlib.figure.Figure at 0x18ed33e5550>"
      ]
     },
     "metadata": {},
     "output_type": "display_data"
    }
   ],
   "source": [
    "plt.figure(figsize=(10,5))\n",
    "sns.countplot(df['Product_Category_1'],hue=df['combined_G_M'])"
   ]
  },
  {
   "cell_type": "code",
   "execution_count": 115,
   "metadata": {},
   "outputs": [
    {
     "data": {
      "text/plain": [
       "<matplotlib.axes._subplots.AxesSubplot at 0x18ed35d8828>"
      ]
     },
     "execution_count": 115,
     "metadata": {},
     "output_type": "execute_result"
    },
    {
     "data": {
      "image/png": "[encoded data removed]",
      "text/plain": [
       "<matplotlib.figure.Figure at 0x18ed35915f8>"
      ]
     },
     "metadata": {},
     "output_type": "display_data"
    }
   ],
   "source": [
    "corrmat = df.corr()\n",
    "fig,ax = plt.subplots(figsize = (12,9))\n",
    "sns.heatmap(corrmat, vmax=.8, square=True)"
   ]
  },
  {
   "cell_type": "code",
   "execution_count": 75,
   "metadata": {},
   "outputs": [],
   "source": [
    "# def map_gender(gender):\n",
    "#     if gender == 'M':\n",
    "#         return 1\n",
    "#     else:\n",
    "#         return 0\n",
    "# data['Gender'] = data['Gender'].apply(map_gender)"
   ]
  },
  {
   "cell_type": "code",
   "execution_count": null,
   "metadata": {},
   "outputs": [],
   "source": []
  },
  {
   "cell_type": "code",
   "execution_count": 164,
   "metadata": {},
   "outputs": [
    {
     "data": {
      "image/png": "[encoded data removed]",
      "text/plain": [
       "<matplotlib.figure.Figure at 0x18ed2ff5c18>"
      ]
     },
     "metadata": {},
     "output_type": "display_data"
    }
   ],
   "source": [
    "fig,ax = plt.subplots(1,3,figsize=(18,6))\n",
    "ax = ax.ravel()\n",
    "\n",
    "prod_by_occ = df.groupby('Occupation')['Product_ID'].nunique()\n",
    "#prod_by_occ = df.groupby(by='Occupation').nunique()['Product_ID']\n",
    "\n",
    "sns.barplot(x=prod_by_occ.index,y=prod_by_occ.values,ax=ax[0])\n",
    "ax[0].set_title('Unique Products by Occupation')\n",
    "ax[0].set_xlabel('Occupation')\n",
    "ax[0].set_ylabel('Unique products')\n",
    "\n",
    "spent_by_occ = df.groupby(by='Occupation').sum()['Purchase']\n",
    "sns.barplot(x=spent_by_occ.index,y=spent_by_occ.values,ax=ax[1])\n",
    "ax[1].set_title('Total Money Spent per Occupation')\n",
    "ax[1].set_xlabel('Occupation')\n",
    "ax[1].set_ylabel('total money in $')\n",
    "\n",
    "sns.countplot(df['Occupation'],ax=ax[2])\n",
    "ax[2].set_title('Occupation Distribution')\n",
    "ax[2].set_xlabel('Occupation')\n",
    "\n",
    "plt.show()\n",
    "\n",
    "#Once again, the distribution of the mean amount spent within each occupation appears to mirror the distribution \n",
    "#of the amount of people within each occupation. \n",
    "#This is fortunate from a data science perspective, as we are not working with odd or outstanding features. \n",
    "#Our data, in terms of age and occupation seems to simply make sense."
   ]
  },
  {
   "cell_type": "code",
   "execution_count": null,
   "metadata": {},
   "outputs": [],
   "source": [
    "#Here we explore the products themselves. This is important, as we do not have labeled items in this dataset. \n",
    "#Theoretically, a customer could be spending $5,000 on 4 new TVs, or 10,000 pens. \n",
    "#This difference matters for stores, as their profits are affected. \n",
    "#Since we do not know what the items are, let's explore the categories of the items.\n"
   ]
  },
  {
   "cell_type": "code",
   "execution_count": 165,
   "metadata": {},
   "outputs": [
    {
     "data": {
      "image/png": "[encoded data removed]",
      "text/plain": [
       "<matplotlib.figure.Figure at 0x18ed2aea780>"
      ]
     },
     "metadata": {},
     "output_type": "display_data"
    }
   ],
   "source": [
    "plt.figure(figsize=(10,6))\n",
    "prod_by_cat = df.groupby('Product_Category_1')['Product_ID'].nunique()\n",
    "\n",
    "sns.barplot(x=prod_by_cat.index,y=prod_by_cat.values, palette=\"Blues_d\")\n",
    "plt.title('Number of Unique Items per Category')\n",
    "plt.show()\n",
    "\n",
    "#Category labels 1, 5, and 8 clearly have the most items within them. \n",
    "#This could mean the store is known for that item, or that the category is a broad one."
   ]
  },
  {
   "cell_type": "code",
   "execution_count": 169,
   "metadata": {},
   "outputs": [
    {
     "data": {
      "image/png": "[encoded data removed]",
      "text/plain": [
       "<matplotlib.figure.Figure at 0x18ed3b8bf98>"
      ]
     },
     "metadata": {},
     "output_type": "display_data"
    }
   ],
   "source": [
    "plt.figure(figsize=(10,6))\n",
    "Mean_Purchase_by_Cat1 = df.groupby('Product_Category_1')['Purchase'].mean().round(2)\n",
    "sns.barplot(x=Mean_Purchase_by_Cat1.index,y=Mean_Purchase_by_Cat1.values)\n",
    "plt.title('Mean of the Purchases per Category')\n",
    "plt.xlabel('Product Category')\n",
    "plt.ylabel('Mean Purchase')\n",
    "plt.show()\n",
    "\n",
    "#Interestingly enough, our most popular categories are not the ones making the most money. \n",
    "#This appears to be a big store, and they may be aware of this. \n",
    "#Yet this same form of analysis can be used in the case of a smaller store that might not be aware, and it could be very useful."
   ]
  },
  {
   "cell_type": "code",
   "execution_count": 185,
   "metadata": {},
   "outputs": [
    {
     "name": "stdout",
     "output_type": "stream",
     "text": [
      "<class 'pandas.core.frame.DataFrame'>\n",
      "RangeIndex: 550068 entries, 0 to 550067\n",
      "Data columns (total 9 columns):\n",
      "User_ID                       550068 non-null int64\n",
      "Gender                        550068 non-null object\n",
      "Age                           550068 non-null object\n",
      "Occupation                    550068 non-null int64\n",
      "City_Category                 550068 non-null object\n",
      "Stay_In_Current_City_Years    550068 non-null object\n",
      "Marital_Status                550068 non-null int64\n",
      "Product_Category_1            550068 non-null int64\n",
      "Purchase                      550068 non-null int64\n",
      "dtypes: int64(5), object(4)\n",
      "memory usage: 37.8+ MB\n"
     ]
    }
   ],
   "source": [
    "\n",
    "###############################\n",
    "df_new = df.drop(['Product_ID','Product_Category_2', 'Product_Category_3','combined_G_M'], axis=1)\n",
    "df_new.info()"
   ]
  },
  {
   "cell_type": "code",
   "execution_count": 207,
   "metadata": {},
   "outputs": [
    {
     "data": {
      "text/html": [
       "<div>\n",
       "<style scoped>\n",
       "    .dataframe tbody tr th:only-of-type {\n",
       "        vertical-align: middle;\n",
       "    }\n",
       "\n",
       "    .dataframe tbody tr th {\n",
       "        vertical-align: top;\n",
       "    }\n",
       "\n",
       "    .dataframe thead th {\n",
       "        text-align: right;\n",
       "    }\n",
       "</style>\n",
       "<table border=\"1\" class=\"dataframe\">\n",
       "  <thead>\n",
       "    <tr style=\"text-align: right;\">\n",
       "      <th></th>\n",
       "      <th>User_ID</th>\n",
       "      <th>Age</th>\n",
       "      <th>Gender</th>\n",
       "      <th>Occupation</th>\n",
       "      <th>Marital_Status</th>\n",
       "      <th>City_Category</th>\n",
       "      <th>Stay_In_Current_City_Years</th>\n",
       "      <th>Purchase</th>\n",
       "    </tr>\n",
       "  </thead>\n",
       "  <tbody>\n",
       "    <tr>\n",
       "      <th>0</th>\n",
       "      <td>1000001</td>\n",
       "      <td>0-17</td>\n",
       "      <td>F</td>\n",
       "      <td>10</td>\n",
       "      <td>0</td>\n",
       "      <td>A</td>\n",
       "      <td>2</td>\n",
       "      <td>334093</td>\n",
       "    </tr>\n",
       "    <tr>\n",
       "      <th>1</th>\n",
       "      <td>1000002</td>\n",
       "      <td>55+</td>\n",
       "      <td>M</td>\n",
       "      <td>16</td>\n",
       "      <td>0</td>\n",
       "      <td>C</td>\n",
       "      <td>4+</td>\n",
       "      <td>810472</td>\n",
       "    </tr>\n",
       "    <tr>\n",
       "      <th>2</th>\n",
       "      <td>1000003</td>\n",
       "      <td>26-35</td>\n",
       "      <td>M</td>\n",
       "      <td>15</td>\n",
       "      <td>0</td>\n",
       "      <td>A</td>\n",
       "      <td>3</td>\n",
       "      <td>341635</td>\n",
       "    </tr>\n",
       "    <tr>\n",
       "      <th>3</th>\n",
       "      <td>1000004</td>\n",
       "      <td>46-50</td>\n",
       "      <td>M</td>\n",
       "      <td>7</td>\n",
       "      <td>1</td>\n",
       "      <td>B</td>\n",
       "      <td>2</td>\n",
       "      <td>206468</td>\n",
       "    </tr>\n",
       "    <tr>\n",
       "      <th>4</th>\n",
       "      <td>1000005</td>\n",
       "      <td>26-35</td>\n",
       "      <td>M</td>\n",
       "      <td>20</td>\n",
       "      <td>1</td>\n",
       "      <td>A</td>\n",
       "      <td>1</td>\n",
       "      <td>821001</td>\n",
       "    </tr>\n",
       "  </tbody>\n",
       "</table>\n",
       "</div>"
      ],
      "text/plain": [
       "   User_ID    Age Gender  Occupation  Marital_Status City_Category  \\\n",
       "0  1000001   0-17      F          10               0             A   \n",
       "1  1000002    55+      M          16               0             C   \n",
       "2  1000003  26-35      M          15               0             A   \n",
       "3  1000004  46-50      M           7               1             B   \n",
       "4  1000005  26-35      M          20               1             A   \n",
       "\n",
       "  Stay_In_Current_City_Years  Purchase  \n",
       "0                          2    334093  \n",
       "1                         4+    810472  \n",
       "2                          3    341635  \n",
       "3                          2    206468  \n",
       "4                          1    821001  "
      ]
     },
     "execution_count": 207,
     "metadata": {},
     "output_type": "execute_result"
    }
   ],
   "source": [
    "demography = df_new.groupby(by=[\"User_ID\",\n",
    "                            \"Age\",\n",
    "                            \"Gender\",\n",
    "                            \"Occupation\",\n",
    "                            \"Marital_Status\",\n",
    "                            \"City_Category\",\n",
    "                            \"Stay_In_Current_City_Years\"\n",
    "                           ]).sum()[\"Purchase\"].to_frame()\n",
    "demog = demography.reset_index()\n",
    "demog.head()\n",
    "#demog = demog.set_index(\"User_ID\")"
   ]
  },
  {
   "cell_type": "code",
   "execution_count": 206,
   "metadata": {},
   "outputs": [
    {
     "data": {
      "text/html": [
       "<div>\n",
       "<style scoped>\n",
       "    .dataframe tbody tr th:only-of-type {\n",
       "        vertical-align: middle;\n",
       "    }\n",
       "\n",
       "    .dataframe tbody tr th {\n",
       "        vertical-align: top;\n",
       "    }\n",
       "\n",
       "    .dataframe thead th {\n",
       "        text-align: right;\n",
       "    }\n",
       "</style>\n",
       "<table border=\"1\" class=\"dataframe\">\n",
       "  <thead>\n",
       "    <tr style=\"text-align: right;\">\n",
       "      <th></th>\n",
       "      <th>User_ID</th>\n",
       "      <th>Age</th>\n",
       "      <th>Gender</th>\n",
       "      <th>Occupation</th>\n",
       "      <th>Marital_Status</th>\n",
       "      <th>City_Category</th>\n",
       "      <th>Stay_In_Current_City_Years</th>\n",
       "      <th>count</th>\n",
       "    </tr>\n",
       "  </thead>\n",
       "  <tbody>\n",
       "    <tr>\n",
       "      <th>0</th>\n",
       "      <td>1000001</td>\n",
       "      <td>0-17</td>\n",
       "      <td>F</td>\n",
       "      <td>10</td>\n",
       "      <td>0</td>\n",
       "      <td>A</td>\n",
       "      <td>2</td>\n",
       "      <td>35</td>\n",
       "    </tr>\n",
       "    <tr>\n",
       "      <th>1</th>\n",
       "      <td>1000002</td>\n",
       "      <td>55+</td>\n",
       "      <td>M</td>\n",
       "      <td>16</td>\n",
       "      <td>0</td>\n",
       "      <td>C</td>\n",
       "      <td>4+</td>\n",
       "      <td>77</td>\n",
       "    </tr>\n",
       "    <tr>\n",
       "      <th>2</th>\n",
       "      <td>1000003</td>\n",
       "      <td>26-35</td>\n",
       "      <td>M</td>\n",
       "      <td>15</td>\n",
       "      <td>0</td>\n",
       "      <td>A</td>\n",
       "      <td>3</td>\n",
       "      <td>29</td>\n",
       "    </tr>\n",
       "    <tr>\n",
       "      <th>3</th>\n",
       "      <td>1000004</td>\n",
       "      <td>46-50</td>\n",
       "      <td>M</td>\n",
       "      <td>7</td>\n",
       "      <td>1</td>\n",
       "      <td>B</td>\n",
       "      <td>2</td>\n",
       "      <td>14</td>\n",
       "    </tr>\n",
       "    <tr>\n",
       "      <th>4</th>\n",
       "      <td>1000005</td>\n",
       "      <td>26-35</td>\n",
       "      <td>M</td>\n",
       "      <td>20</td>\n",
       "      <td>1</td>\n",
       "      <td>A</td>\n",
       "      <td>1</td>\n",
       "      <td>106</td>\n",
       "    </tr>\n",
       "  </tbody>\n",
       "</table>\n",
       "</div>"
      ],
      "text/plain": [
       "   User_ID    Age Gender  Occupation  Marital_Status City_Category  \\\n",
       "0  1000001   0-17      F          10               0             A   \n",
       "1  1000002    55+      M          16               0             C   \n",
       "2  1000003  26-35      M          15               0             A   \n",
       "3  1000004  46-50      M           7               1             B   \n",
       "4  1000005  26-35      M          20               1             A   \n",
       "\n",
       "  Stay_In_Current_City_Years  count  \n",
       "0                          2     35  \n",
       "1                         4+     77  \n",
       "2                          3     29  \n",
       "3                          2     14  \n",
       "4                          1    106  "
      ]
     },
     "execution_count": 206,
     "metadata": {},
     "output_type": "execute_result"
    }
   ],
   "source": [
    "UserID_Count = df_new.groupby(by=[\"User_ID\",\n",
    "                            \"Age\",\n",
    "                            \"Gender\",\n",
    "                            \"Occupation\",\n",
    "                            \"Marital_Status\",\n",
    "                            \"City_Category\",\n",
    "                            \"Stay_In_Current_City_Years\"\n",
    "                           ]).size()\n",
    "#UserID_Count.head()\n",
    "new_count = UserID_Count.to_frame(name = 'count').reset_index()\n",
    "new_count.head()"
   ]
  },
  {
   "cell_type": "code",
   "execution_count": 218,
   "metadata": {},
   "outputs": [
    {
     "data": {
      "text/html": [
       "<div>\n",
       "<style scoped>\n",
       "    .dataframe tbody tr th:only-of-type {\n",
       "        vertical-align: middle;\n",
       "    }\n",
       "\n",
       "    .dataframe tbody tr th {\n",
       "        vertical-align: top;\n",
       "    }\n",
       "\n",
       "    .dataframe thead th {\n",
       "        text-align: right;\n",
       "    }\n",
       "</style>\n",
       "<table border=\"1\" class=\"dataframe\">\n",
       "  <thead>\n",
       "    <tr style=\"text-align: right;\">\n",
       "      <th></th>\n",
       "      <th>Age</th>\n",
       "      <th>Gender</th>\n",
       "      <th>Occupation</th>\n",
       "      <th>Marital_Status</th>\n",
       "      <th>City_Category</th>\n",
       "      <th>Stay_In_Current_City_Years</th>\n",
       "      <th>Purchase</th>\n",
       "      <th>count</th>\n",
       "    </tr>\n",
       "    <tr>\n",
       "      <th>User_ID</th>\n",
       "      <th></th>\n",
       "      <th></th>\n",
       "      <th></th>\n",
       "      <th></th>\n",
       "      <th></th>\n",
       "      <th></th>\n",
       "      <th></th>\n",
       "      <th></th>\n",
       "    </tr>\n",
       "  </thead>\n",
       "  <tbody>\n",
       "    <tr>\n",
       "      <th>1000001</th>\n",
       "      <td>0-17</td>\n",
       "      <td>F</td>\n",
       "      <td>10</td>\n",
       "      <td>0</td>\n",
       "      <td>A</td>\n",
       "      <td>2</td>\n",
       "      <td>334093</td>\n",
       "      <td>35</td>\n",
       "    </tr>\n",
       "    <tr>\n",
       "      <th>1000002</th>\n",
       "      <td>55+</td>\n",
       "      <td>M</td>\n",
       "      <td>16</td>\n",
       "      <td>0</td>\n",
       "      <td>C</td>\n",
       "      <td>4+</td>\n",
       "      <td>810472</td>\n",
       "      <td>77</td>\n",
       "    </tr>\n",
       "    <tr>\n",
       "      <th>1000003</th>\n",
       "      <td>26-35</td>\n",
       "      <td>M</td>\n",
       "      <td>15</td>\n",
       "      <td>0</td>\n",
       "      <td>A</td>\n",
       "      <td>3</td>\n",
       "      <td>341635</td>\n",
       "      <td>29</td>\n",
       "    </tr>\n",
       "    <tr>\n",
       "      <th>1000004</th>\n",
       "      <td>46-50</td>\n",
       "      <td>M</td>\n",
       "      <td>7</td>\n",
       "      <td>1</td>\n",
       "      <td>B</td>\n",
       "      <td>2</td>\n",
       "      <td>206468</td>\n",
       "      <td>14</td>\n",
       "    </tr>\n",
       "    <tr>\n",
       "      <th>1000005</th>\n",
       "      <td>26-35</td>\n",
       "      <td>M</td>\n",
       "      <td>20</td>\n",
       "      <td>1</td>\n",
       "      <td>A</td>\n",
       "      <td>1</td>\n",
       "      <td>821001</td>\n",
       "      <td>106</td>\n",
       "    </tr>\n",
       "    <tr>\n",
       "      <th>1000006</th>\n",
       "      <td>51-55</td>\n",
       "      <td>F</td>\n",
       "      <td>9</td>\n",
       "      <td>0</td>\n",
       "      <td>A</td>\n",
       "      <td>1</td>\n",
       "      <td>379930</td>\n",
       "      <td>47</td>\n",
       "    </tr>\n",
       "    <tr>\n",
       "      <th>1000007</th>\n",
       "      <td>36-45</td>\n",
       "      <td>M</td>\n",
       "      <td>1</td>\n",
       "      <td>1</td>\n",
       "      <td>B</td>\n",
       "      <td>1</td>\n",
       "      <td>234668</td>\n",
       "      <td>17</td>\n",
       "    </tr>\n",
       "    <tr>\n",
       "      <th>1000008</th>\n",
       "      <td>26-35</td>\n",
       "      <td>M</td>\n",
       "      <td>12</td>\n",
       "      <td>1</td>\n",
       "      <td>C</td>\n",
       "      <td>4+</td>\n",
       "      <td>796593</td>\n",
       "      <td>77</td>\n",
       "    </tr>\n",
       "    <tr>\n",
       "      <th>1000009</th>\n",
       "      <td>26-35</td>\n",
       "      <td>M</td>\n",
       "      <td>17</td>\n",
       "      <td>0</td>\n",
       "      <td>C</td>\n",
       "      <td>0</td>\n",
       "      <td>594099</td>\n",
       "      <td>58</td>\n",
       "    </tr>\n",
       "    <tr>\n",
       "      <th>1000010</th>\n",
       "      <td>36-45</td>\n",
       "      <td>F</td>\n",
       "      <td>1</td>\n",
       "      <td>1</td>\n",
       "      <td>B</td>\n",
       "      <td>4+</td>\n",
       "      <td>2169510</td>\n",
       "      <td>223</td>\n",
       "    </tr>\n",
       "  </tbody>\n",
       "</table>\n",
       "</div>"
      ],
      "text/plain": [
       "           Age Gender  Occupation  Marital_Status City_Category  \\\n",
       "User_ID                                                           \n",
       "1000001   0-17      F          10               0             A   \n",
       "1000002    55+      M          16               0             C   \n",
       "1000003  26-35      M          15               0             A   \n",
       "1000004  46-50      M           7               1             B   \n",
       "1000005  26-35      M          20               1             A   \n",
       "1000006  51-55      F           9               0             A   \n",
       "1000007  36-45      M           1               1             B   \n",
       "1000008  26-35      M          12               1             C   \n",
       "1000009  26-35      M          17               0             C   \n",
       "1000010  36-45      F           1               1             B   \n",
       "\n",
       "        Stay_In_Current_City_Years  Purchase  count  \n",
       "User_ID                                              \n",
       "1000001                          2    334093     35  \n",
       "1000002                         4+    810472     77  \n",
       "1000003                          3    341635     29  \n",
       "1000004                          2    206468     14  \n",
       "1000005                          1    821001    106  \n",
       "1000006                          1    379930     47  \n",
       "1000007                          1    234668     17  \n",
       "1000008                         4+    796593     77  \n",
       "1000009                          0    594099     58  \n",
       "1000010                         4+   2169510    223  "
      ]
     },
     "execution_count": 218,
     "metadata": {},
     "output_type": "execute_result"
    }
   ],
   "source": [
    "Final = pd.merge(demog, new_count[['User_ID','count']], how='left', on=['User_ID'])\n",
    "Final = Final.set_index(\"User_ID\")\n",
    "\n",
    "#Final = demog.join(new_count[new_count['User_ID','count']], on=['User_ID'])\n",
    "#Final1 = Final.sort_values(by='Purchase', ascending=False)\n",
    "Final.head(10)"
   ]
  },
  {
   "cell_type": "code",
   "execution_count": 221,
   "metadata": {
    "scrolled": true
   },
   "outputs": [],
   "source": [
    "age_dummies = pd.get_dummies(Final[\"Age\"])\n",
    "\n",
    "occupation_dummies = pd.get_dummies(Final[\"Occupation\"])\n",
    "\n",
    "city_dummies = pd.get_dummies(Final[\"City_Category\"])\n",
    "\n",
    "city_stay_years_dummies = pd.get_dummies(Final[\"Stay_In_Current_City_Years\"])\n",
    "\n",
    "city_stay_years_dummies.columns = [\"0yrs\",\"1yrs\",\"2yrs\",\"3yrs\",\"4+yrs\"]\n",
    "\n",
    "Final[\"Gender\"] = Final[\"Gender\"].apply(lambda gender: 1 if gender ==\"F\" else 0)"
   ]
  },
  {
   "cell_type": "code",
   "execution_count": 231,
   "metadata": {},
   "outputs": [
    {
     "data": {
      "text/html": [
       "<div>\n",
       "<style scoped>\n",
       "    .dataframe tbody tr th:only-of-type {\n",
       "        vertical-align: middle;\n",
       "    }\n",
       "\n",
       "    .dataframe tbody tr th {\n",
       "        vertical-align: top;\n",
       "    }\n",
       "\n",
       "    .dataframe thead th {\n",
       "        text-align: right;\n",
       "    }\n",
       "</style>\n",
       "<table border=\"1\" class=\"dataframe\">\n",
       "  <thead>\n",
       "    <tr style=\"text-align: right;\">\n",
       "      <th></th>\n",
       "      <th>Gender</th>\n",
       "      <th>Marital_Status</th>\n",
       "      <th>18-25</th>\n",
       "      <th>26-35</th>\n",
       "      <th>36-45</th>\n",
       "      <th>46-50</th>\n",
       "      <th>51-55</th>\n",
       "      <th>55+</th>\n",
       "      <th>1</th>\n",
       "      <th>2</th>\n",
       "      <th>...</th>\n",
       "      <th>19</th>\n",
       "      <th>20</th>\n",
       "      <th>A</th>\n",
       "      <th>B</th>\n",
       "      <th>0yrs</th>\n",
       "      <th>1yrs</th>\n",
       "      <th>2yrs</th>\n",
       "      <th>3yrs</th>\n",
       "      <th>count</th>\n",
       "      <th>Purchase</th>\n",
       "    </tr>\n",
       "    <tr>\n",
       "      <th>User_ID</th>\n",
       "      <th></th>\n",
       "      <th></th>\n",
       "      <th></th>\n",
       "      <th></th>\n",
       "      <th></th>\n",
       "      <th></th>\n",
       "      <th></th>\n",
       "      <th></th>\n",
       "      <th></th>\n",
       "      <th></th>\n",
       "      <th></th>\n",
       "      <th></th>\n",
       "      <th></th>\n",
       "      <th></th>\n",
       "      <th></th>\n",
       "      <th></th>\n",
       "      <th></th>\n",
       "      <th></th>\n",
       "      <th></th>\n",
       "      <th></th>\n",
       "      <th></th>\n",
       "    </tr>\n",
       "  </thead>\n",
       "  <tbody>\n",
       "    <tr>\n",
       "      <th>1000001</th>\n",
       "      <td>1</td>\n",
       "      <td>0</td>\n",
       "      <td>0</td>\n",
       "      <td>0</td>\n",
       "      <td>0</td>\n",
       "      <td>0</td>\n",
       "      <td>0</td>\n",
       "      <td>0</td>\n",
       "      <td>0</td>\n",
       "      <td>0</td>\n",
       "      <td>...</td>\n",
       "      <td>0</td>\n",
       "      <td>0</td>\n",
       "      <td>1</td>\n",
       "      <td>0</td>\n",
       "      <td>0</td>\n",
       "      <td>0</td>\n",
       "      <td>1</td>\n",
       "      <td>0</td>\n",
       "      <td>35</td>\n",
       "      <td>334093</td>\n",
       "    </tr>\n",
       "    <tr>\n",
       "      <th>1000002</th>\n",
       "      <td>0</td>\n",
       "      <td>0</td>\n",
       "      <td>0</td>\n",
       "      <td>0</td>\n",
       "      <td>0</td>\n",
       "      <td>0</td>\n",
       "      <td>0</td>\n",
       "      <td>1</td>\n",
       "      <td>0</td>\n",
       "      <td>0</td>\n",
       "      <td>...</td>\n",
       "      <td>0</td>\n",
       "      <td>0</td>\n",
       "      <td>0</td>\n",
       "      <td>0</td>\n",
       "      <td>0</td>\n",
       "      <td>0</td>\n",
       "      <td>0</td>\n",
       "      <td>0</td>\n",
       "      <td>77</td>\n",
       "      <td>810472</td>\n",
       "    </tr>\n",
       "    <tr>\n",
       "      <th>1000003</th>\n",
       "      <td>0</td>\n",
       "      <td>0</td>\n",
       "      <td>0</td>\n",
       "      <td>1</td>\n",
       "      <td>0</td>\n",
       "      <td>0</td>\n",
       "      <td>0</td>\n",
       "      <td>0</td>\n",
       "      <td>0</td>\n",
       "      <td>0</td>\n",
       "      <td>...</td>\n",
       "      <td>0</td>\n",
       "      <td>0</td>\n",
       "      <td>1</td>\n",
       "      <td>0</td>\n",
       "      <td>0</td>\n",
       "      <td>0</td>\n",
       "      <td>0</td>\n",
       "      <td>1</td>\n",
       "      <td>29</td>\n",
       "      <td>341635</td>\n",
       "    </tr>\n",
       "    <tr>\n",
       "      <th>1000004</th>\n",
       "      <td>0</td>\n",
       "      <td>1</td>\n",
       "      <td>0</td>\n",
       "      <td>0</td>\n",
       "      <td>0</td>\n",
       "      <td>1</td>\n",
       "      <td>0</td>\n",
       "      <td>0</td>\n",
       "      <td>0</td>\n",
       "      <td>0</td>\n",
       "      <td>...</td>\n",
       "      <td>0</td>\n",
       "      <td>0</td>\n",
       "      <td>0</td>\n",
       "      <td>1</td>\n",
       "      <td>0</td>\n",
       "      <td>0</td>\n",
       "      <td>1</td>\n",
       "      <td>0</td>\n",
       "      <td>14</td>\n",
       "      <td>206468</td>\n",
       "    </tr>\n",
       "    <tr>\n",
       "      <th>1000005</th>\n",
       "      <td>0</td>\n",
       "      <td>1</td>\n",
       "      <td>0</td>\n",
       "      <td>1</td>\n",
       "      <td>0</td>\n",
       "      <td>0</td>\n",
       "      <td>0</td>\n",
       "      <td>0</td>\n",
       "      <td>0</td>\n",
       "      <td>0</td>\n",
       "      <td>...</td>\n",
       "      <td>0</td>\n",
       "      <td>1</td>\n",
       "      <td>1</td>\n",
       "      <td>0</td>\n",
       "      <td>0</td>\n",
       "      <td>1</td>\n",
       "      <td>0</td>\n",
       "      <td>0</td>\n",
       "      <td>106</td>\n",
       "      <td>821001</td>\n",
       "    </tr>\n",
       "  </tbody>\n",
       "</table>\n",
       "<p>5 rows × 36 columns</p>\n",
       "</div>"
      ],
      "text/plain": [
       "         Gender  Marital_Status  18-25  26-35  36-45  46-50  51-55  55+  1  2  \\\n",
       "User_ID                                                                         \n",
       "1000001       1               0      0      0      0      0      0    0  0  0   \n",
       "1000002       0               0      0      0      0      0      0    1  0  0   \n",
       "1000003       0               0      0      1      0      0      0    0  0  0   \n",
       "1000004       0               1      0      0      0      1      0    0  0  0   \n",
       "1000005       0               1      0      1      0      0      0    0  0  0   \n",
       "\n",
       "           ...     19  20  A  B  0yrs  1yrs  2yrs  3yrs  count  Purchase  \n",
       "User_ID    ...                                                            \n",
       "1000001    ...      0   0  1  0     0     0     1     0     35    334093  \n",
       "1000002    ...      0   0  0  0     0     0     0     0     77    810472  \n",
       "1000003    ...      0   0  1  0     0     0     0     1     29    341635  \n",
       "1000004    ...      0   0  0  1     0     0     1     0     14    206468  \n",
       "1000005    ...      0   1  1  0     0     1     0     0    106    821001  \n",
       "\n",
       "[5 rows x 36 columns]"
      ]
     },
     "execution_count": 231,
     "metadata": {},
     "output_type": "execute_result"
    }
   ],
   "source": [
    "Final_data = pd.concat([Final[\"Gender\"],\n",
    "                        Final[\"Marital_Status\"],\n",
    "                        age_dummies,\n",
    "                        occupation_dummies,\n",
    "                        city_dummies,\n",
    "                        city_stay_years_dummies,\n",
    "                        Final['count'],\n",
    "                        Final[\"Purchase\"]\n",
    "                       ],axis=1)\n",
    "\n",
    "Final_data = Final_data.drop([\"0-17\",0,\"C\",\"4+yrs\"],axis=1)\n",
    "Final_data.head()"
   ]
  },
  {
   "cell_type": "code",
   "execution_count": 232,
   "metadata": {},
   "outputs": [],
   "source": [
    "from sklearn.model_selection import train_test_split\n",
    "\n",
    "X = Final_data.iloc[:,:-1]\n",
    "Y = Final_data.iloc[:,-1]\n",
    "X_train, X_test, y_train, y_test = train_test_split(X, Y, test_size=0.30, random_state=42)"
   ]
  },
  {
   "cell_type": "code",
   "execution_count": 233,
   "metadata": {},
   "outputs": [],
   "source": [
    "from sklearn.linear_model import LinearRegression\n",
    "\n",
    "lm = LinearRegression()\n",
    "lm.fit(X_train,y_train)\n",
    "\n",
    "cdf = pd.DataFrame(lm.coef_, X_train.columns, columns=[\"Coeff\"])"
   ]
  },
  {
   "cell_type": "code",
   "execution_count": 234,
   "metadata": {},
   "outputs": [
    {
     "data": {
      "text/plain": [
       "<matplotlib.axes._subplots.AxesSubplot at 0x18ed240ff60>"
      ]
     },
     "execution_count": 234,
     "metadata": {},
     "output_type": "execute_result"
    },
    {
     "data": {
      "image/png": "[encoded data removed]",
      "text/plain": [
       "<matplotlib.figure.Figure at 0x18ecc5013c8>"
      ]
     },
     "metadata": {},
     "output_type": "display_data"
    }
   ],
   "source": [
    "predictions = lm.predict(X_test)\n",
    "sns.distplot((y_test-predictions))"
   ]
  },
  {
   "cell_type": "code",
   "execution_count": 235,
   "metadata": {},
   "outputs": [
    {
     "data": {
      "text/plain": [
       "0.9618335537590231"
      ]
     },
     "execution_count": 235,
     "metadata": {},
     "output_type": "execute_result"
    }
   ],
   "source": [
    "from sklearn import metrics\n",
    "metrics.r2_score(y_true=y_test,y_pred=predictions)"
   ]
  },
  {
   "cell_type": "code",
   "execution_count": 236,
   "metadata": {},
   "outputs": [
    {
     "name": "stdout",
     "output_type": "stream",
     "text": [
      "                            OLS Regression Results                            \n",
      "==============================================================================\n",
      "Dep. Variable:               Purchase   R-squared:                       0.978\n",
      "Model:                            OLS   Adj. R-squared:                  0.978\n",
      "Method:                 Least Squares   F-statistic:                     5219.\n",
      "Date:                Fri, 23 Nov 2018   Prob (F-statistic):               0.00\n",
      "Time:                        01:58:41   Log-Likelihood:                -55841.\n",
      "No. Observations:                4123   AIC:                         1.118e+05\n",
      "Df Residuals:                    4088   BIC:                         1.120e+05\n",
      "Df Model:                          35                                         \n",
      "Covariance Type:            nonrobust                                         \n",
      "==================================================================================\n",
      "                     coef    std err          t      P>|t|      [0.025      0.975]\n",
      "----------------------------------------------------------------------------------\n",
      "Gender         -6.711e+04   6705.423    -10.008      0.000   -8.03e+04    -5.4e+04\n",
      "Marital_Status -1843.1852   6278.410     -0.294      0.769   -1.42e+04    1.05e+04\n",
      "18-25            6.24e+04    1.3e+04      4.813      0.000     3.7e+04    8.78e+04\n",
      "26-35           8.258e+04   1.18e+04      6.972      0.000    5.94e+04    1.06e+05\n",
      "36-45           8.299e+04   1.25e+04      6.619      0.000    5.84e+04    1.08e+05\n",
      "46-50           6.982e+04   1.51e+04      4.610      0.000    4.01e+04    9.95e+04\n",
      "51-55           9.217e+04   1.56e+04      5.911      0.000    6.16e+04    1.23e+05\n",
      "55+             6.671e+04   1.69e+04      3.939      0.000    3.35e+04    9.99e+04\n",
      "1              -2.096e+04   1.29e+04     -1.623      0.105   -4.63e+04    4351.715\n",
      "2              -1.267e+04   1.63e+04     -0.776      0.438   -4.47e+04    1.93e+04\n",
      "3               6412.4028   1.91e+04      0.335      0.738   -3.11e+04    4.39e+04\n",
      "4               1.373e+04   1.26e+04      1.090      0.276    -1.1e+04    3.84e+04\n",
      "5               3.355e+04   2.26e+04      1.482      0.138   -1.08e+04    7.79e+04\n",
      "6               4964.5182   1.67e+04      0.297      0.767   -2.78e+04    3.78e+04\n",
      "7               9072.1125   1.21e+04      0.751      0.453   -1.46e+04    3.27e+04\n",
      "8               5.081e+04   5.43e+04      0.936      0.349   -5.56e+04    1.57e+05\n",
      "9              -1.956e+04   2.72e+04     -0.718      0.473   -7.29e+04    3.38e+04\n",
      "10              4.277e+04   1.69e+04      2.524      0.012    9548.398     7.6e+04\n",
      "11               466.5252   2.07e+04      0.023      0.982   -4.01e+04     4.1e+04\n",
      "12              3.385e+04   1.43e+04      2.364      0.018    5774.736    6.19e+04\n",
      "13             -1.448e+04   2.25e+04     -0.645      0.519   -5.85e+04    2.96e+04\n",
      "14              2.261e+04   1.54e+04      1.466      0.143   -7636.340    5.29e+04\n",
      "15              4.286e+04   2.02e+04      2.117      0.034    3173.702    8.25e+04\n",
      "16              2.242e+04   1.73e+04      1.294      0.196   -1.15e+04    5.64e+04\n",
      "17              2.997e+04   1.32e+04      2.262      0.024    3995.675    5.59e+04\n",
      "18             -1.254e+04   2.81e+04     -0.446      0.655   -6.76e+04    4.26e+04\n",
      "19             -3.825e+04    2.6e+04     -1.474      0.141   -8.91e+04    1.26e+04\n",
      "20             -2.668e+04    1.6e+04     -1.665      0.096   -5.81e+04    4739.828\n",
      "A              -1.622e+04   8411.809     -1.928      0.054   -3.27e+04     270.192\n",
      "B               2.029e+04   7131.131      2.846      0.004    6313.600    3.43e+04\n",
      "0yrs           -2438.2237   1.06e+04     -0.231      0.818   -2.32e+04    1.83e+04\n",
      "1yrs           -5285.6768   8624.058     -0.613      0.540   -2.22e+04    1.16e+04\n",
      "2yrs            6273.6580   9636.046      0.651      0.515   -1.26e+04    2.52e+04\n",
      "3yrs           -5983.3453      1e+04     -0.598      0.550   -2.56e+04    1.36e+04\n",
      "count           8550.9864     30.355    281.695      0.000    8491.473    8610.500\n",
      "==============================================================================\n",
      "Omnibus:                      819.060   Durbin-Watson:                   2.005\n",
      "Prob(Omnibus):                  0.000   Jarque-Bera (JB):            23198.220\n",
      "Skew:                          -0.208   Prob(JB):                         0.00\n",
      "Kurtosis:                      14.613   Cond. No.                     2.66e+03\n",
      "==============================================================================\n",
      "\n",
      "Warnings:\n",
      "[1] Standard Errors assume that the covariance matrix of the errors is correctly specified.\n",
      "[2] The condition number is large, 2.66e+03. This might indicate that there are\n",
      "strong multicollinearity or other numerical problems.\n"
     ]
    }
   ],
   "source": [
    "import statsmodels.api as sm\n",
    "from scipy import stats\n",
    "\n",
    "est = sm.OLS(y_train, X_train)\n",
    "est2 = est.fit()\n",
    "print(est2.summary())"
   ]
  },
  {
   "cell_type": "code",
   "execution_count": 266,
   "metadata": {},
   "outputs": [
    {
     "ename": "NameError",
     "evalue": "name 'model' is not defined",
     "output_type": "error",
     "traceback": [
      "\u001b[1;31m---------------------------------------------------------------------------\u001b[0m",
      "\u001b[1;31mNameError\u001b[0m                                 Traceback (most recent call last)",
      "\u001b[1;32m<ipython-input-266-ae0035c5ff7f>\u001b[0m in \u001b[0;36m<module>\u001b[1;34m()\u001b[0m\n\u001b[0;32m      1\u001b[0m \u001b[1;32mimport\u001b[0m \u001b[0mxgboost\u001b[0m \u001b[1;32mas\u001b[0m \u001b[0mxgb\u001b[0m\u001b[1;33m\u001b[0m\u001b[0m\n\u001b[0;32m      2\u001b[0m \u001b[1;33m\u001b[0m\u001b[0m\n\u001b[1;32m----> 3\u001b[1;33m \u001b[0mAge_Groups_Matrix\u001b[0m \u001b[1;33m=\u001b[0m \u001b[0mmodel\u001b[0m\u001b[1;33m.\u001b[0m\u001b[0mmatrix\u001b[0m\u001b[1;33m(\u001b[0m\u001b[1;33m~\u001b[0m\u001b[0mAge\u001b[0m\u001b[1;33m-\u001b[0m\u001b[1;36m1\u001b[0m\u001b[1;33m,\u001b[0m\u001b[0mdata\u001b[0m \u001b[1;33m=\u001b[0m \u001b[0mdf_new\u001b[0m\u001b[1;33m)\u001b[0m\u001b[1;33m\u001b[0m\u001b[0m\n\u001b[0m",
      "\u001b[1;31mNameError\u001b[0m: name 'model' is not defined"
     ]
    }
   ],
   "source": [
    "import xgboost as xgb\n",
    "\n",
    "Age_Groups_Matrix = model.matrix(~Age-1,data = df_new)\n"
   ]
  },
  {
   "cell_type": "code",
   "execution_count": 260,
   "metadata": {},
   "outputs": [
    {
     "name": "stdout",
     "output_type": "stream",
     "text": [
      "Collecting xgboost\n",
      "  Downloading https://files.pythonhosted.org/packages/1d/e7/5258cb787dc036f419ec57491decf8bfa89ab52c401b08b4b9228e43dc4c/xgboost-0.81-py2.py3-none-win_amd64.whl (7.4MB)\n",
      "Requirement already satisfied: numpy in c:\\programdata\\anaconda3\\lib\\site-packages (from xgboost)\n",
      "Requirement already satisfied: scipy in c:\\programdata\\anaconda3\\lib\\site-packages (from xgboost)\n",
      "Installing collected packages: xgboost\n",
      "Successfully installed xgboost-0.81\n"
     ]
    },
    {
     "name": "stderr",
     "output_type": "stream",
     "text": [
      "You are using pip version 9.0.1, however version 18.1 is available.\n",
      "You should consider upgrading via the 'python -m pip install --upgrade pip' command.\n"
     ]
    }
   ],
   "source": [
    "!pip install xgboost"
   ]
  },
  {
   "cell_type": "code",
   "execution_count": null,
   "metadata": {},
   "outputs": [],
   "source": []
  },
  {
   "cell_type": "code",
   "execution_count": null,
   "metadata": {},
   "outputs": [],
   "source": []
  }
 ],
 "metadata": {
  "kernelspec": {
   "display_name": "Python 3",
   "language": "python",
   "name": "python3"
  },
  "language_info": {
   "codemirror_mode": {
    "name": "ipython",
    "version": 3
   },
   "file_extension": ".py",
   "mimetype": "text/x-python",
   "name": "python",
   "nbconvert_exporter": "python",
   "pygments_lexer": "ipython3",
   "version": "3.6.4"
  }
 },
 "nbformat": 4,
 "nbformat_minor": 2
}
